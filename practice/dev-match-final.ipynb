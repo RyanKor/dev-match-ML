{
 "cells": [
  {
   "cell_type": "code",
   "execution_count": 1,
   "id": "ff7d0cbb",
   "metadata": {},
   "outputs": [],
   "source": [
    "import pandas as pd\n",
    "import numpy as np\n",
    "import glob\n",
    " \n",
    "import os\n",
    "import zipfile\n",
    "\n",
    "import tensorflow as tf\n",
    "\n",
    "from keras_preprocessing.image import ImageDataGenerator\n",
    "from sklearn.model_selection import train_test_split\n",
    "\n",
    "from tensorflow.keras.models import Model, Sequential, load_model\n",
    "from tensorflow.keras.layers import Dense, Dropout, BatchNormalization, Input, Conv2D, MaxPool2D, Flatten\n",
    "from tensorflow.keras.optimizers import Adam\n",
    "\n",
    "from tensorflow.keras.callbacks import EarlyStopping\n",
    "from tensorflow.keras.callbacks import ModelCheckpoint"
   ]
  },
  {
   "cell_type": "code",
   "execution_count": 2,
   "id": "38d3e16b",
   "metadata": {},
   "outputs": [],
   "source": [
    "# 다운로드 받은 이미지 압축 파일 해제\n",
    "# print(os.listdir(\"./drive/MyDrive\"))\n",
    "local_zip = './train.zip'\n",
    "\n",
    "zip_ref = zipfile.ZipFile(local_zip, 'r')\n",
    "zip_ref.extractall('./res/train')\n",
    "zip_ref.close()\n",
    "\n",
    "local_zip = './test.zip'\n",
    "\n",
    "zip_ref = zipfile.ZipFile(local_zip, 'r')\n",
    "zip_ref.extractall('./res/test')\n",
    "zip_ref.close()"
   ]
  },
  {
   "cell_type": "code",
   "execution_count": 3,
   "id": "45062286",
   "metadata": {},
   "outputs": [],
   "source": [
    "base_dir = \"./res/\"\n",
    "\n",
    "train_dir = \"train/train/\"\n",
    "\n",
    "train_class = ['dog', 'elephant', 'giraffe', 'guitar', 'horse', 'house', 'person']\n",
    "\n",
    "\n",
    "test_dir = \"test/test/0\""
   ]
  },
  {
   "cell_type": "markdown",
   "id": "fe1c984f",
   "metadata": {},
   "source": [
    "## EDA\n",
    "\n",
    "1. 각 클래스별 데이터 불균형 정도 확인"
   ]
  },
  {
   "cell_type": "code",
   "execution_count": 4,
   "id": "49dde135",
   "metadata": {},
   "outputs": [
    {
     "name": "stdout",
     "output_type": "stream",
     "text": [
      "# of images of dog is 329\n",
      "# of images of elephant is 205\n",
      "# of images of giraffe is 235\n",
      "# of images of guitar is 134\n",
      "# of images of horse is 151\n",
      "# of images of house is 245\n",
      "# of images of person is 399\n"
     ]
    }
   ],
   "source": [
    "for i in train_class:\n",
    "    print(\"# of images of\", i, \"is\", len(os.listdir(base_dir + train_dir + i)))"
   ]
  },
  {
   "cell_type": "code",
   "execution_count": 5,
   "id": "8c31fde1",
   "metadata": {},
   "outputs": [
    {
     "name": "stdout",
     "output_type": "stream",
     "text": [
      "Found 1222 validated image filenames belonging to 7 classes.\n",
      "Found 170 validated image filenames belonging to 7 classes.\n",
      "Found 306 validated image filenames belonging to 7 classes.\n"
     ]
    }
   ],
   "source": [
    "train_label = []\n",
    "for path in range(len(train_class)):\n",
    "    class2label = [''] + [0]\n",
    "    \n",
    "    for img in os.listdir(base_dir + train_dir + train_class[path]):\n",
    "        class2label[0] = (train_dir + train_class[path] + \"/\" + img)[6:]\n",
    "        if train_class[path] == \"dog\":\n",
    "            class2label[1] = 0\n",
    "        if train_class[path] == \"elephant\":\n",
    "            class2label[1] = 1\n",
    "        if train_class[path] == \"giraffe\":\n",
    "            class2label[1] = 2\n",
    "        if train_class[path] == \"guitar\":\n",
    "            class2label[1] = 3\n",
    "        if train_class[path] == \"horse\":\n",
    "            class2label[1] = 4\n",
    "        if train_class[path] == \"house\":\n",
    "            class2label[1] = 5\n",
    "        if train_class[path] == \"person\":\n",
    "            class2label[1] = 6\n",
    "\n",
    "        train_label.append(class2label)\n",
    "\n",
    "train_answer = pd.DataFrame(train_label, columns = [\"path\", \"label\"])\n",
    "train_answer.to_csv('./train_answer.csv', index=False)\n",
    "data = pd.read_csv(\"./train_answer.csv\")\n",
    "data['label'] = data['label'].astype(str)\n",
    "\n",
    "\n",
    "datagen=ImageDataGenerator(\n",
    "      rescale = 1./255.,\n",
    "      rotation_range=40,\n",
    "      width_shift_range=0.2,\n",
    "      height_shift_range=0.2,\n",
    "      shear_range=0.2,\n",
    "      zoom_range=0.2,\n",
    "      horizontal_flip=True,\n",
    "      vertical_flip=True,\n",
    "      fill_mode='nearest')\n",
    "\n",
    "# train, val = train_test_split(data, test_size=0.3, random_state=42)\n",
    "train_all, test = train_test_split(data, test_size=0.1, random_state=42)\n",
    "train, val = train_test_split(train_all, test_size=0.2, random_state=42)\n",
    "train_generator=datagen.flow_from_dataframe(\n",
    "                                            dataframe=train,\n",
    "                                            directory='./res/train/',\n",
    "                                            x_col=\"path\",\n",
    "                                            y_col=\"label\",\n",
    "                                            batch_size=32,\n",
    "                                            shuffle=True,\n",
    "                                            class_mode=\"categorical\",\n",
    "                                            target_size=(227,227))\n",
    "\n",
    "test_generator=datagen.flow_from_dataframe(\n",
    "                                            dataframe=test,\n",
    "                                            directory='./res/train/',\n",
    "                                            x_col=\"path\",\n",
    "                                            y_col=\"label\",\n",
    "                                            batch_size=32,\n",
    "                                            shuffle=True,\n",
    "                                            class_mode=\"categorical\",\n",
    "                                            target_size=(227,227))\n",
    "\n",
    "val_generator=datagen.flow_from_dataframe(\n",
    "                                            dataframe=val,\n",
    "                                            directory='./res/train/',\n",
    "                                            x_col=\"path\",\n",
    "                                            y_col=\"label\",\n",
    "                                            batch_size=32,\n",
    "                                            shuffle=True,\n",
    "                                            class_mode=\"categorical\",\n",
    "                                            target_size=(227,227))\n",
    "\n"
   ]
  },
  {
   "cell_type": "code",
   "execution_count": 6,
   "id": "bfb3b2c2",
   "metadata": {},
   "outputs": [],
   "source": [
    "model = Sequential()\n",
    "model.add(Conv2D(64,(3,3),activation='relu',input_shape=(227,227,3)))\n",
    "model.add(MaxPool2D((2,2)))\n",
    "model.add(Conv2D(64,(3,3),activation='relu'))\n",
    "model.add(MaxPool2D((2,2)))\n",
    "\n",
    "model.add(Dropout(0.5))\n",
    "model.add(Flatten())\n",
    "\n",
    "model.add(Dense(256,activation='relu'))\n",
    "model.add(BatchNormalization())\n",
    "\n",
    "model.add(Dense(7,activation='softmax'))\n",
    " \n",
    "model.compile(loss='categorical_crossentropy',optimizer = Adam(learning_rate=0.001),metrics=['accuracy'])"
   ]
  },
  {
   "cell_type": "code",
   "execution_count": 7,
   "id": "47323c9a",
   "metadata": {},
   "outputs": [
    {
     "name": "stdout",
     "output_type": "stream",
     "text": [
      "Epoch 1/20\n",
      "38/38 [==============================] - 30s 577ms/step - loss: 0.1834 - accuracy: 0.9504 - val_loss: 4.4965 - val_accuracy: 0.5660\n",
      "Epoch 2/20\n",
      "38/38 [==============================] - 16s 423ms/step - loss: 0.0089 - accuracy: 1.0000 - val_loss: 2.8234 - val_accuracy: 0.5729\n",
      "Epoch 3/20\n",
      "38/38 [==============================] - 15s 408ms/step - loss: 0.0210 - accuracy: 0.9941 - val_loss: 10.2379 - val_accuracy: 0.1701\n",
      "Epoch 4/20\n",
      "38/38 [==============================] - 16s 410ms/step - loss: 0.0304 - accuracy: 0.9908 - val_loss: 2.4629 - val_accuracy: 0.6458\n",
      "Epoch 5/20\n",
      "38/38 [==============================] - 16s 417ms/step - loss: 0.0124 - accuracy: 0.9984 - val_loss: 0.7508 - val_accuracy: 0.7604\n",
      "Epoch 6/20\n",
      "38/38 [==============================] - 16s 416ms/step - loss: 0.0034 - accuracy: 1.0000 - val_loss: 0.1324 - val_accuracy: 0.9340\n",
      "Epoch 7/20\n",
      "38/38 [==============================] - 16s 421ms/step - loss: 0.0012 - accuracy: 1.0000 - val_loss: 0.0319 - val_accuracy: 0.9965\n",
      "Epoch 8/20\n",
      "38/38 [==============================] - 16s 409ms/step - loss: 9.7031e-04 - accuracy: 1.0000 - val_loss: 0.0012 - val_accuracy: 1.0000\n",
      "Epoch 9/20\n",
      "38/38 [==============================] - 16s 426ms/step - loss: 6.3307e-04 - accuracy: 1.0000 - val_loss: 6.8455e-04 - val_accuracy: 1.0000\n",
      "Epoch 10/20\n",
      "38/38 [==============================] - 15s 406ms/step - loss: 6.1381e-04 - accuracy: 1.0000 - val_loss: 2.9672e-04 - val_accuracy: 1.0000\n",
      "Epoch 11/20\n",
      "38/38 [==============================] - 16s 418ms/step - loss: 4.0464e-04 - accuracy: 1.0000 - val_loss: 2.1537e-04 - val_accuracy: 1.0000\n",
      "Epoch 12/20\n",
      "38/38 [==============================] - 15s 400ms/step - loss: 4.3932e-04 - accuracy: 1.0000 - val_loss: 2.1400e-04 - val_accuracy: 1.0000\n",
      "Epoch 13/20\n",
      "38/38 [==============================] - 15s 407ms/step - loss: 4.2106e-04 - accuracy: 1.0000 - val_loss: 2.1048e-04 - val_accuracy: 1.0000\n",
      "Epoch 14/20\n",
      "38/38 [==============================] - 15s 399ms/step - loss: 0.0017 - accuracy: 1.0000 - val_loss: 0.0032 - val_accuracy: 1.0000\n",
      "Epoch 15/20\n",
      "38/38 [==============================] - 15s 409ms/step - loss: 4.6887e-04 - accuracy: 1.0000 - val_loss: 8.8449e-04 - val_accuracy: 1.0000\n",
      "Epoch 16/20\n",
      "38/38 [==============================] - 16s 415ms/step - loss: 4.9426e-04 - accuracy: 1.0000 - val_loss: 4.5242e-04 - val_accuracy: 1.0000\n",
      "Epoch 00016: early stopping\n"
     ]
    }
   ],
   "source": [
    "train_steps = train_generator.n//train_generator.batch_size\n",
    "validation_steps = val_generator.n//val_generator.batch_size\n",
    "# 작은 데이터의 경우에는 fit을 사용해도 무방하지만 큰 데이터라면 fit_generator를 사용하여 대용량의 데이터를 효율적으로 학습하기에 좋다.\n",
    "\n",
    "es = EarlyStopping(monitor='val_loss', mode='min', verbose=1, patience=3)\n",
    "mc = ModelCheckpoint('best_model.h5', monitor='val_loss', mode='min', save_best_only=True)\n",
    "\n",
    "\n",
    "history = model.fit(train_generator,steps_per_epoch=train_steps, \n",
    "                    epochs=20, validation_data=val_generator,\n",
    "                    validation_steps=validation_steps,\n",
    "                    callbacks=[es,mc])"
   ]
  },
  {
   "cell_type": "code",
   "execution_count": 8,
   "id": "0484768c",
   "metadata": {},
   "outputs": [
    {
     "data": {
      "image/png": "[encoded data removed]",
      "text/plain": [
       "<Figure size 432x288 with 1 Axes>"
      ]
     },
     "metadata": {
      "needs_background": "light"
     },
     "output_type": "display_data"
    }
   ],
   "source": [
    "import matplotlib.pyplot as plt\n",
    "\n",
    "plt.plot(history.history[\"accuracy\"])\n",
    "plt.plot(history.history[\"val_accuracy\"])\n",
    "plt.ylabel(\"accuracy\")\n",
    "plt.xlabel(\"epoch\")\n",
    "plt.legend([\"train_accuracy\", \"val_accuracy\"])\n",
    "plt.show()"
   ]
  },
  {
   "cell_type": "code",
   "execution_count": 9,
   "id": "10ae34a4",
   "metadata": {},
   "outputs": [
    {
     "data": {
      "image/png": "[encoded data removed]",
      "text/plain": [
       "<Figure size 432x288 with 1 Axes>"
      ]
     },
     "metadata": {
      "needs_background": "light"
     },
     "output_type": "display_data"
    }
   ],
   "source": [
    "plt.plot(history.history[\"loss\"])\n",
    "plt.plot(history.history[\"val_loss\"])\n",
    "plt.ylabel(\"loss\")\n",
    "plt.xlabel(\"epoch\")\n",
    "plt.legend([\"train_loss\", \"val_loss\"])\n",
    "plt.show()"
   ]
  },
  {
   "cell_type": "code",
   "execution_count": 10,
   "id": "efbcda0f",
   "metadata": {},
   "outputs": [
    {
     "name": "stdout",
     "output_type": "stream",
     "text": [
      "6/6 [==============================] - 4s 738ms/step - loss: 1.7413e-04 - accuracy: 1.0000\n",
      "[0.00017412877059541643, 1.0]\n"
     ]
    }
   ],
   "source": [
    "best_model = load_model('best_model.h5')\n",
    "\n",
    "scores = best_model.evaluate(test_generator)\n",
    "print(scores)\n"
   ]
  },
  {
   "cell_type": "code",
   "execution_count": 11,
   "id": "1a5285c0",
   "metadata": {},
   "outputs": [
    {
     "name": "stdout",
     "output_type": "stream",
     "text": [
      "Found 350 validated image filenames.\n"
     ]
    }
   ],
   "source": [
    "test_df = pd.DataFrame()\n",
    "test = glob.glob(\"./res/test/test/0/*.jpg\")\n",
    "test_dir = []\n",
    "for img in test:\n",
    "    test_dir.append(img[11:])\n",
    "test_df[\"path\"] = test_dir\n",
    " \n",
    "test_datagen=ImageDataGenerator(rescale = 1./255.)\n",
    "real_generator = test_datagen.flow_from_dataframe(  dataframe=test_df[:],\n",
    "                                                    directory='./res/test/',\n",
    "                                                    x_col=\"path\",\n",
    "                                                    y_col=\"path\",\n",
    "                                                    batch_size=1,\n",
    "                                                    shuffle=False,\n",
    "                                                    class_mode=\"raw\",\n",
    "                                                    target_size=(227,227))"
   ]
  },
  {
   "cell_type": "code",
   "execution_count": 12,
   "id": "98969b6e",
   "metadata": {},
   "outputs": [],
   "source": [
    "STEP_SIZE_TEST=real_generator.n//real_generator.batch_size\n",
    "real_generator.reset()"
   ]
  },
  {
   "cell_type": "code",
   "execution_count": 13,
   "id": "e22b0bcb",
   "metadata": {},
   "outputs": [
    {
     "name": "stdout",
     "output_type": "stream",
     "text": [
      "350/350 [==============================] - 4s 4ms/step\n"
     ]
    }
   ],
   "source": [
    "pred = best_model.predict(real_generator,steps=STEP_SIZE_TEST,verbose=1)\n",
    "\n",
    "pred = np.array([y.argmax() for y in pred])\n",
    "\n",
    "filenames=real_generator.filenames\n",
    "results=pd.DataFrame({\"Filename\":filenames,\n",
    "                      \"Predictions\":pred})"
   ]
  },
  {
   "cell_type": "code",
   "execution_count": 14,
   "id": "8dea75ac",
   "metadata": {},
   "outputs": [
    {
     "data": {
      "text/html": [
       "<div>\n",
       "<style scoped>\n",
       "    .dataframe tbody tr th:only-of-type {\n",
       "        vertical-align: middle;\n",
       "    }\n",
       "\n",
       "    .dataframe tbody tr th {\n",
       "        vertical-align: top;\n",
       "    }\n",
       "\n",
       "    .dataframe thead th {\n",
       "        text-align: right;\n",
       "    }\n",
       "</style>\n",
       "<table border=\"1\" class=\"dataframe\">\n",
       "  <thead>\n",
       "    <tr style=\"text-align: right;\">\n",
       "      <th></th>\n",
       "      <th>Filename</th>\n",
       "      <th>Predictions</th>\n",
       "    </tr>\n",
       "  </thead>\n",
       "  <tbody>\n",
       "    <tr>\n",
       "      <th>0</th>\n",
       "      <td>test/0/0130.jpg</td>\n",
       "      <td>4</td>\n",
       "    </tr>\n",
       "    <tr>\n",
       "      <th>1</th>\n",
       "      <td>test/0/0162.jpg</td>\n",
       "      <td>2</td>\n",
       "    </tr>\n",
       "    <tr>\n",
       "      <th>2</th>\n",
       "      <td>test/0/0258.jpg</td>\n",
       "      <td>5</td>\n",
       "    </tr>\n",
       "    <tr>\n",
       "      <th>3</th>\n",
       "      <td>test/0/0027.jpg</td>\n",
       "      <td>6</td>\n",
       "    </tr>\n",
       "    <tr>\n",
       "      <th>4</th>\n",
       "      <td>test/0/0043.jpg</td>\n",
       "      <td>2</td>\n",
       "    </tr>\n",
       "    <tr>\n",
       "      <th>...</th>\n",
       "      <td>...</td>\n",
       "      <td>...</td>\n",
       "    </tr>\n",
       "    <tr>\n",
       "      <th>345</th>\n",
       "      <td>test/0/0330.jpg</td>\n",
       "      <td>2</td>\n",
       "    </tr>\n",
       "    <tr>\n",
       "      <th>346</th>\n",
       "      <td>test/0/0205.jpg</td>\n",
       "      <td>2</td>\n",
       "    </tr>\n",
       "    <tr>\n",
       "      <th>347</th>\n",
       "      <td>test/0/0033.jpg</td>\n",
       "      <td>1</td>\n",
       "    </tr>\n",
       "    <tr>\n",
       "      <th>348</th>\n",
       "      <td>test/0/0098.jpg</td>\n",
       "      <td>1</td>\n",
       "    </tr>\n",
       "    <tr>\n",
       "      <th>349</th>\n",
       "      <td>test/0/0103.jpg</td>\n",
       "      <td>1</td>\n",
       "    </tr>\n",
       "  </tbody>\n",
       "</table>\n",
       "<p>350 rows × 2 columns</p>\n",
       "</div>"
      ],
      "text/plain": [
       "            Filename  Predictions\n",
       "0    test/0/0130.jpg            4\n",
       "1    test/0/0162.jpg            2\n",
       "2    test/0/0258.jpg            5\n",
       "3    test/0/0027.jpg            6\n",
       "4    test/0/0043.jpg            2\n",
       "..               ...          ...\n",
       "345  test/0/0330.jpg            2\n",
       "346  test/0/0205.jpg            2\n",
       "347  test/0/0033.jpg            1\n",
       "348  test/0/0098.jpg            1\n",
       "349  test/0/0103.jpg            1\n",
       "\n",
       "[350 rows x 2 columns]"
      ]
     },
     "execution_count": 14,
     "metadata": {},
     "output_type": "execute_result"
    }
   ],
   "source": [
    "results"
   ]
  },
  {
   "cell_type": "code",
   "execution_count": 15,
   "id": "5d2df374",
   "metadata": {},
   "outputs": [],
   "source": [
    "test_df = pd.read_csv(\"./test_answer_sample_.csv\")\n",
    "test_df.iloc[:,1] = results[\"Predictions\"]\n",
    "test_df.to_csv('cnn.csv', index=False)"
   ]
  },
  {
   "cell_type": "code",
   "execution_count": null,
   "id": "be904111",
   "metadata": {},
   "outputs": [],
   "source": []
  }
 ],
 "metadata": {
  "kernelspec": {
   "display_name": "TensorFlow 2.5 on Python 3.8 & CUDA 11.3",
   "language": "python",
   "name": "python3"
  },
  "language_info": {
   "codemirror_mode": {
    "name": "ipython",
    "version": 3
   },
   "file_extension": ".py",
   "mimetype": "text/x-python",
   "name": "python",
   "nbconvert_exporter": "python",
   "pygments_lexer": "ipython3",
   "version": "3.8.10"
  }
 },
 "nbformat": 4,
 "nbformat_minor": 5
}
