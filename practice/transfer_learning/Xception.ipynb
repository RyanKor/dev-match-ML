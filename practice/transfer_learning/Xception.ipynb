{
 "cells": [
  {
   "cell_type": "code",
   "execution_count": 1,
   "id": "82b42c99",
   "metadata": {},
   "outputs": [],
   "source": [
    "import pandas as pd\n",
    "import numpy as np\n",
    "import glob\n",
    " \n",
    "import os\n",
    "import zipfile\n",
    "\n",
    "import tensorflow as tf\n",
    "\n",
    "from keras_preprocessing.image import ImageDataGenerator\n",
    "from sklearn.model_selection import train_test_split\n",
    "\n",
    "from tensorflow.keras.models import Model, Sequential, load_model\n",
    "from tensorflow.keras.layers import Dense, Dropout, BatchNormalization, Input\n",
    "from tensorflow.keras.optimizers import Adam\n",
    "\n",
    "from tensorflow.keras.models import load_model"
   ]
  },
  {
   "cell_type": "code",
   "execution_count": 2,
   "id": "2eacef9a",
   "metadata": {},
   "outputs": [],
   "source": [
    "# 다운로드 받은 이미지 압축 파일 해제\n",
    "# print(os.listdir(\"./drive/MyDrive\"))\n",
    "local_zip = './train.zip'\n",
    "\n",
    "zip_ref = zipfile.ZipFile(local_zip, 'r')\n",
    "zip_ref.extractall('./res/train')\n",
    "zip_ref.close()\n",
    "\n",
    "local_zip = './test.zip'\n",
    "\n",
    "zip_ref = zipfile.ZipFile(local_zip, 'r')\n",
    "zip_ref.extractall('./res/test')\n",
    "zip_ref.close()"
   ]
  },
  {
   "cell_type": "code",
   "execution_count": 3,
   "id": "418fa350",
   "metadata": {},
   "outputs": [],
   "source": [
    "base_dir = \"./res/\"\n",
    "\n",
    "train_dir = \"train/train/\"\n",
    "\n",
    "train_class = ['dog', 'elephant', 'giraffe', 'guitar', 'horse', 'house', 'person']\n",
    "\n",
    "\n",
    "test_dir = \"test/test/0\""
   ]
  },
  {
   "cell_type": "code",
   "execution_count": 4,
   "id": "ed537cdd",
   "metadata": {},
   "outputs": [
    {
     "name": "stdout",
     "output_type": "stream",
     "text": [
      "Found 1698 validated image filenames.\n"
     ]
    }
   ],
   "source": [
    "train_one_hot = []\n",
    "\n",
    "for path in range(len(train_class)):\n",
    "    class2label = [''] + [0] * len(train_class)\n",
    "    for img in os.listdir(base_dir + train_dir + train_class[path]):\n",
    "        class2label[0] = (train_dir + train_class[path] + \"/\" + img)[6:]\n",
    "        class2label[path + 1] = 1\n",
    "        train_one_hot.append(class2label)\n",
    "\n",
    "        \n",
    "train_answer = pd.DataFrame(train_one_hot, columns = [\"path\", \"dogs\", 'elephant', 'giraffe', 'guitar', 'horse' , 'house', 'person'])\n",
    "train_answer.to_csv('./train_answer.csv', index=False)\n",
    "\n",
    "data = pd.read_csv(\"./train_answer.csv\")\n",
    "columns = data.columns\n",
    "\n",
    "datagen=ImageDataGenerator(\n",
    "      rescale = 1/255,\n",
    "      rotation_range=40,\n",
    "      width_shift_range=0.2,\n",
    "      height_shift_range=0.2,\n",
    "      shear_range=0.2,\n",
    "      zoom_range=0.2,\n",
    "      horizontal_flip=True,\n",
    "      fill_mode='nearest')\n",
    "train_generator=datagen.flow_from_dataframe(\n",
    "                                            dataframe=data,\n",
    "                                            directory='./res/train/',\n",
    "                                            x_col=\"path\",\n",
    "                                            y_col=columns[1:],\n",
    "                                            batch_size=48,\n",
    "                                            shuffle=False,\n",
    "                                            class_mode=\"raw\",\n",
    "                                            target_size=(299,299))"
   ]
  },
  {
   "cell_type": "code",
   "execution_count": 13,
   "id": "e6752f83",
   "metadata": {},
   "outputs": [
    {
     "name": "stdout",
     "output_type": "stream",
     "text": [
      "36/36 [==============================] - 30s 806ms/step\n"
     ]
    }
   ],
   "source": [
    "res_net = tf.keras.applications.Xception(\n",
    "    include_top=True, weights='imagenet',input_shape=(299,299,3), pooling=\"max\")\n",
    "res_net.trainable = True\n",
    "\n",
    "pretrained_data = res_net.predict(train_generator, verbose=1)"
   ]
  },
  {
   "cell_type": "code",
   "execution_count": 15,
   "id": "68db4fc2",
   "metadata": {},
   "outputs": [
    {
     "data": {
      "text/plain": [
       "array([[7.2097086e-05, 5.3558592e-04, 8.1427446e-05, ..., 6.6124747e-05,\n",
       "        1.9878868e-04, 6.7231647e-04],\n",
       "       [1.5801309e-04, 3.5659948e-04, 4.8437162e-04, ..., 1.1016689e-04,\n",
       "        5.3969480e-04, 3.0196656e-04],\n",
       "       [1.5867651e-04, 3.4133715e-04, 3.9816851e-04, ..., 8.8227040e-05,\n",
       "        4.8274104e-04, 2.3053346e-04],\n",
       "       ...,\n",
       "       [1.4409344e-04, 1.4884046e-03, 3.6039634e-03, ..., 1.0978100e-04,\n",
       "        1.1550710e-04, 4.8191348e-04],\n",
       "       [1.2266262e-04, 5.0407468e-04, 1.4371080e-04, ..., 2.2496170e-05,\n",
       "        1.7531107e-04, 4.3735665e-04],\n",
       "       [1.4851277e-04, 1.3638451e-04, 1.0188392e-04, ..., 1.1943936e-04,\n",
       "        1.7577046e-04, 3.7337904e-05]], dtype=float32)"
      ]
     },
     "execution_count": 15,
     "metadata": {},
     "output_type": "execute_result"
    }
   ],
   "source": [
    "x_train, x_valid, y_train, y_valid = train_test_split(pretrained_data, data.iloc[:,1:], test_size=0.2, random_state=42)"
   ]
  },
  {
   "cell_type": "code",
   "execution_count": 7,
   "id": "40953724",
   "metadata": {},
   "outputs": [
    {
     "name": "stdout",
     "output_type": "stream",
     "text": [
      "WARNING:tensorflow:Please add `keras.layers.InputLayer` instead of `keras.Input` to Sequential model. `keras.Input` is intended to be used by Functional model.\n",
      "Model: \"sequential\"\n",
      "_________________________________________________________________\n",
      "Layer (type)                 Output Shape              Param #   \n",
      "=================================================================\n",
      "batch_normalization_4 (Batch (None, 1000)              4000      \n",
      "_________________________________________________________________\n",
      "dense (Dense)                (None, 512)               512512    \n",
      "_________________________________________________________________\n",
      "batch_normalization_5 (Batch (None, 512)               2048      \n",
      "_________________________________________________________________\n",
      "dense_1 (Dense)              (None, 256)               131328    \n",
      "_________________________________________________________________\n",
      "batch_normalization_6 (Batch (None, 256)               1024      \n",
      "_________________________________________________________________\n",
      "dense_2 (Dense)              (None, 128)               32896     \n",
      "_________________________________________________________________\n",
      "batch_normalization_7 (Batch (None, 128)               512       \n",
      "_________________________________________________________________\n",
      "dense_3 (Dense)              (None, 7)                 903       \n",
      "=================================================================\n",
      "Total params: 685,223\n",
      "Trainable params: 681,431\n",
      "Non-trainable params: 3,792\n",
      "_________________________________________________________________\n"
     ]
    }
   ],
   "source": [
    "model = Sequential(\n",
    "    [Input(1000,),\n",
    "    BatchNormalization(),\n",
    "    \n",
    "    Dense(512,  activation='relu'),\n",
    "    BatchNormalization(),\n",
    "    \n",
    "    Dense(256,  activation='relu'),\n",
    "    BatchNormalization(),\n",
    "    \n",
    "    Dense(128,  activation='relu'),\n",
    "    BatchNormalization(),\n",
    "    \n",
    "    Dense(7,  activation='softmax')\n",
    "    ])\n",
    "model.summary()\n",
    " \n",
    "mc = tf.keras.callbacks.ModelCheckpoint('xception_model.h5', monitor='val_loss', mode='min', verbose=1, save_best_only=True)"
   ]
  },
  {
   "cell_type": "code",
   "execution_count": 8,
   "id": "f3948eaf",
   "metadata": {},
   "outputs": [
    {
     "name": "stdout",
     "output_type": "stream",
     "text": [
      "Epoch 1/30\n",
      "29/29 [==============================] - 2s 25ms/step - loss: 0.1672 - accuracy: 0.9514 - val_loss: 1.8452 - val_accuracy: 0.4088\n",
      "\n",
      "Epoch 00001: val_loss improved from inf to 1.84517, saving model to xception_model.h5\n",
      "Epoch 2/30\n",
      "29/29 [==============================] - 1s 18ms/step - loss: 0.0038 - accuracy: 1.0000 - val_loss: 1.8372 - val_accuracy: 0.2765\n",
      "\n",
      "Epoch 00002: val_loss improved from 1.84517 to 1.83718, saving model to xception_model.h5\n",
      "Epoch 3/30\n",
      "29/29 [==============================] - 1s 18ms/step - loss: 0.0044 - accuracy: 0.9985 - val_loss: 1.8380 - val_accuracy: 0.2618\n",
      "\n",
      "Epoch 00003: val_loss did not improve from 1.83718\n",
      "Epoch 4/30\n",
      "29/29 [==============================] - 1s 18ms/step - loss: 0.0017 - accuracy: 1.0000 - val_loss: 1.8256 - val_accuracy: 0.2882\n",
      "\n",
      "Epoch 00004: val_loss improved from 1.83718 to 1.82564, saving model to xception_model.h5\n",
      "Epoch 5/30\n",
      "29/29 [==============================] - 1s 18ms/step - loss: 0.0014 - accuracy: 1.0000 - val_loss: 1.7940 - val_accuracy: 0.3265\n",
      "\n",
      "Epoch 00005: val_loss improved from 1.82564 to 1.79396, saving model to xception_model.h5\n",
      "Epoch 6/30\n",
      "29/29 [==============================] - 1s 18ms/step - loss: 0.0013 - accuracy: 1.0000 - val_loss: 1.6923 - val_accuracy: 0.3559\n",
      "\n",
      "Epoch 00006: val_loss improved from 1.79396 to 1.69227, saving model to xception_model.h5\n",
      "Epoch 7/30\n",
      "29/29 [==============================] - 1s 18ms/step - loss: 6.0233e-04 - accuracy: 1.0000 - val_loss: 1.5896 - val_accuracy: 0.3971\n",
      "\n",
      "Epoch 00007: val_loss improved from 1.69227 to 1.58958, saving model to xception_model.h5\n",
      "Epoch 8/30\n",
      "29/29 [==============================] - 1s 18ms/step - loss: 6.9665e-04 - accuracy: 1.0000 - val_loss: 1.4541 - val_accuracy: 0.4353\n",
      "\n",
      "Epoch 00008: val_loss improved from 1.58958 to 1.45407, saving model to xception_model.h5\n",
      "Epoch 9/30\n",
      "29/29 [==============================] - 1s 18ms/step - loss: 0.0018 - accuracy: 1.0000 - val_loss: 1.2623 - val_accuracy: 0.5353\n",
      "\n",
      "Epoch 00009: val_loss improved from 1.45407 to 1.26229, saving model to xception_model.h5\n",
      "Epoch 10/30\n",
      "29/29 [==============================] - 1s 18ms/step - loss: 0.0033 - accuracy: 0.9993 - val_loss: 1.6118 - val_accuracy: 0.4265\n",
      "\n",
      "Epoch 00010: val_loss did not improve from 1.26229\n",
      "Epoch 11/30\n",
      "29/29 [==============================] - 1s 18ms/step - loss: 0.0013 - accuracy: 1.0000 - val_loss: 1.2124 - val_accuracy: 0.4824\n",
      "\n",
      "Epoch 00011: val_loss improved from 1.26229 to 1.21237, saving model to xception_model.h5\n",
      "Epoch 12/30\n",
      "29/29 [==============================] - 1s 18ms/step - loss: 8.3227e-04 - accuracy: 1.0000 - val_loss: 0.9633 - val_accuracy: 0.5824\n",
      "\n",
      "Epoch 00012: val_loss improved from 1.21237 to 0.96334, saving model to xception_model.h5\n",
      "Epoch 13/30\n",
      "29/29 [==============================] - 1s 18ms/step - loss: 4.2470e-04 - accuracy: 1.0000 - val_loss: 0.7218 - val_accuracy: 0.6853\n",
      "\n",
      "Epoch 00013: val_loss improved from 0.96334 to 0.72184, saving model to xception_model.h5\n",
      "Epoch 14/30\n",
      "29/29 [==============================] - 1s 18ms/step - loss: 6.5954e-04 - accuracy: 1.0000 - val_loss: 0.4938 - val_accuracy: 0.8235\n",
      "\n",
      "Epoch 00014: val_loss improved from 0.72184 to 0.49375, saving model to xception_model.h5\n",
      "Epoch 15/30\n",
      "29/29 [==============================] - 1s 18ms/step - loss: 0.0033 - accuracy: 0.9985 - val_loss: 0.3462 - val_accuracy: 0.8824\n",
      "\n",
      "Epoch 00015: val_loss improved from 0.49375 to 0.34623, saving model to xception_model.h5\n",
      "Epoch 16/30\n",
      "29/29 [==============================] - 1s 18ms/step - loss: 0.0012 - accuracy: 1.0000 - val_loss: 0.1539 - val_accuracy: 0.9618\n",
      "\n",
      "Epoch 00016: val_loss improved from 0.34623 to 0.15394, saving model to xception_model.h5\n",
      "Epoch 17/30\n",
      "29/29 [==============================] - 1s 18ms/step - loss: 2.6458e-04 - accuracy: 1.0000 - val_loss: 0.0771 - val_accuracy: 0.9941\n",
      "\n",
      "Epoch 00017: val_loss improved from 0.15394 to 0.07712, saving model to xception_model.h5\n",
      "Epoch 18/30\n",
      "29/29 [==============================] - 1s 19ms/step - loss: 3.1413e-04 - accuracy: 1.0000 - val_loss: 0.0413 - val_accuracy: 0.9971\n",
      "\n",
      "Epoch 00018: val_loss improved from 0.07712 to 0.04131, saving model to xception_model.h5\n",
      "Epoch 19/30\n",
      "29/29 [==============================] - 1s 18ms/step - loss: 5.0504e-04 - accuracy: 1.0000 - val_loss: 0.0254 - val_accuracy: 0.9971\n",
      "\n",
      "Epoch 00019: val_loss improved from 0.04131 to 0.02538, saving model to xception_model.h5\n",
      "Epoch 20/30\n",
      "29/29 [==============================] - 1s 19ms/step - loss: 2.5933e-04 - accuracy: 1.0000 - val_loss: 0.0178 - val_accuracy: 0.9971\n",
      "\n",
      "Epoch 00020: val_loss improved from 0.02538 to 0.01776, saving model to xception_model.h5\n",
      "Epoch 21/30\n",
      "29/29 [==============================] - 1s 18ms/step - loss: 2.2392e-04 - accuracy: 1.0000 - val_loss: 0.0167 - val_accuracy: 0.9971\n",
      "\n",
      "Epoch 00021: val_loss improved from 0.01776 to 0.01667, saving model to xception_model.h5\n",
      "Epoch 22/30\n",
      "29/29 [==============================] - 1s 18ms/step - loss: 1.8399e-04 - accuracy: 1.0000 - val_loss: 0.0160 - val_accuracy: 0.9971\n",
      "\n",
      "Epoch 00022: val_loss improved from 0.01667 to 0.01595, saving model to xception_model.h5\n",
      "Epoch 23/30\n",
      "29/29 [==============================] - 1s 18ms/step - loss: 1.1765e-04 - accuracy: 1.0000 - val_loss: 0.0154 - val_accuracy: 0.9971\n",
      "\n",
      "Epoch 00023: val_loss improved from 0.01595 to 0.01536, saving model to xception_model.h5\n",
      "Epoch 24/30\n",
      "29/29 [==============================] - 1s 18ms/step - loss: 1.2412e-04 - accuracy: 1.0000 - val_loss: 0.0155 - val_accuracy: 0.9971\n",
      "\n",
      "Epoch 00024: val_loss did not improve from 0.01536\n",
      "Epoch 25/30\n",
      "29/29 [==============================] - 1s 18ms/step - loss: 1.5341e-04 - accuracy: 1.0000 - val_loss: 0.0173 - val_accuracy: 0.9971\n",
      "\n",
      "Epoch 00025: val_loss did not improve from 0.01536\n",
      "Epoch 26/30\n",
      "29/29 [==============================] - 1s 18ms/step - loss: 1.1158e-04 - accuracy: 1.0000 - val_loss: 0.0178 - val_accuracy: 0.9971\n",
      "\n",
      "Epoch 00026: val_loss did not improve from 0.01536\n",
      "Epoch 27/30\n",
      "29/29 [==============================] - 1s 18ms/step - loss: 1.1535e-04 - accuracy: 1.0000 - val_loss: 0.0179 - val_accuracy: 0.9971\n",
      "\n",
      "Epoch 00027: val_loss did not improve from 0.01536\n",
      "Epoch 28/30\n",
      "29/29 [==============================] - 1s 18ms/step - loss: 6.8715e-05 - accuracy: 1.0000 - val_loss: 0.0178 - val_accuracy: 0.9971\n",
      "\n",
      "Epoch 00028: val_loss did not improve from 0.01536\n",
      "Epoch 29/30\n",
      "29/29 [==============================] - 1s 18ms/step - loss: 1.3591e-04 - accuracy: 1.0000 - val_loss: 0.0178 - val_accuracy: 0.9971\n",
      "\n",
      "Epoch 00029: val_loss did not improve from 0.01536\n",
      "Epoch 30/30\n",
      "29/29 [==============================] - 1s 19ms/step - loss: 7.5248e-05 - accuracy: 1.0000 - val_loss: 0.0179 - val_accuracy: 0.9971\n",
      "\n",
      "Epoch 00030: val_loss did not improve from 0.01536\n"
     ]
    },
    {
     "data": {
      "text/plain": [
       "<tensorflow.python.keras.callbacks.History at 0x7f2798667df0>"
      ]
     },
     "execution_count": 8,
     "metadata": {},
     "output_type": "execute_result"
    }
   ],
   "source": [
    "model.compile(loss='categorical_crossentropy', optimizer=Adam(0.001), metrics=['accuracy']) # 최적화 함수 학습률 1e-4에서 0.001로 변경\n",
    "model.fit(x_train, y_train, epochs=30, batch_size=48, validation_data=(x_valid, y_valid),callbacks=[mc])"
   ]
  },
  {
   "cell_type": "code",
   "execution_count": 9,
   "id": "a50eb6dc",
   "metadata": {},
   "outputs": [
    {
     "name": "stdout",
     "output_type": "stream",
     "text": [
      "Model: \"sequential_1\"\n",
      "_________________________________________________________________\n",
      "Layer (type)                 Output Shape              Param #   \n",
      "=================================================================\n",
      "xception (Functional)        (None, 1000)              22910480  \n",
      "_________________________________________________________________\n",
      "sequential (Sequential)      (None, 7)                 685223    \n",
      "=================================================================\n",
      "Total params: 23,595,703\n",
      "Trainable params: 23,537,383\n",
      "Non-trainable params: 58,320\n",
      "_________________________________________________________________\n"
     ]
    }
   ],
   "source": [
    "loaded_model = load_model('xception_model.h5')\n",
    " \n",
    "final_model = Sequential([res_net, model])\n",
    "final_model.summary()"
   ]
  },
  {
   "cell_type": "code",
   "execution_count": 10,
   "id": "e7c9698e",
   "metadata": {},
   "outputs": [
    {
     "name": "stdout",
     "output_type": "stream",
     "text": [
      "Found 350 validated image filenames.\n"
     ]
    }
   ],
   "source": [
    "test_df = pd.DataFrame()\n",
    "test = glob.glob(\"./res/test/test/0/*.jpg\")\n",
    "test_dir = []\n",
    "for img in test:\n",
    "    test_dir.append(img[11:])\n",
    "test_df[\"path\"] = test_dir\n",
    " \n",
    "test_datagen=ImageDataGenerator(rescale = 1/255)\n",
    "test_generator = test_datagen.flow_from_dataframe(  dataframe=test_df[:],\n",
    "                                                    directory='./res/test/',\n",
    "                                                    x_col=\"path\",\n",
    "                                                    y_col=columns[0],\n",
    "                                                    batch_size=48,\n",
    "                                                    shuffle=False,\n",
    "                                                    class_mode=\"raw\",\n",
    "                                                    target_size=(299,299))"
   ]
  },
  {
   "cell_type": "code",
   "execution_count": 11,
   "id": "d019f43e",
   "metadata": {},
   "outputs": [
    {
     "name": "stdout",
     "output_type": "stream",
     "text": [
      "8/8 [==============================] - 36s 5s/step\n"
     ]
    }
   ],
   "source": [
    "pred = final_model.predict(test_generator, verbose=1)"
   ]
  },
  {
   "cell_type": "code",
   "execution_count": 12,
   "id": "9ff4ea41",
   "metadata": {},
   "outputs": [],
   "source": [
    "answer = np.array([y.argmax() for y in pred])\n",
    "test_df = pd.read_csv(\"./test_answer_sample_.csv\")\n",
    "test_df.iloc[:,1] = answer\n",
    "test_df.to_csv('xception.csv', index=False)"
   ]
  },
  {
   "cell_type": "code",
   "execution_count": null,
   "id": "9660c557",
   "metadata": {},
   "outputs": [],
   "source": []
  }
 ],
 "metadata": {
  "kernelspec": {
   "display_name": "TensorFlow 2.5 on Python 3.8 & CUDA 11.3",
   "language": "python",
   "name": "python3"
  },
  "language_info": {
   "codemirror_mode": {
    "name": "ipython",
    "version": 3
   },
   "file_extension": ".py",
   "mimetype": "text/x-python",
   "name": "python",
   "nbconvert_exporter": "python",
   "pygments_lexer": "ipython3",
   "version": "3.8.10"
  }
 },
 "nbformat": 4,
 "nbformat_minor": 5
}
