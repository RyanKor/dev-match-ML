{
 "cells": [
  {
   "cell_type": "code",
   "execution_count": 1,
   "id": "6103004b",
   "metadata": {},
   "outputs": [],
   "source": [
    "import pandas as pd\n",
    "import numpy as np\n",
    "import glob\n",
    " \n",
    "import os\n",
    "import zipfile\n",
    "\n",
    "import tensorflow as tf\n",
    "\n",
    "from keras_preprocessing.image import ImageDataGenerator\n",
    "from sklearn.model_selection import train_test_split\n",
    "\n",
    "from tensorflow.keras.models import Model, Sequential, load_model\n",
    "from tensorflow.keras.layers import Dense, Dropout, BatchNormalization, Input\n",
    "from tensorflow.keras.optimizers import Adam\n",
    "\n",
    "from tensorflow.keras.models import load_model"
   ]
  },
  {
   "cell_type": "code",
   "execution_count": 2,
   "id": "9d8d25ba",
   "metadata": {},
   "outputs": [],
   "source": [
    "# 다운로드 받은 이미지 압축 파일 해제\n",
    "# print(os.listdir(\"./drive/MyDrive\"))\n",
    "local_zip = './train.zip'\n",
    "\n",
    "zip_ref = zipfile.ZipFile(local_zip, 'r')\n",
    "zip_ref.extractall('./res/train')\n",
    "zip_ref.close()\n",
    "\n",
    "local_zip = './test.zip'\n",
    "\n",
    "zip_ref = zipfile.ZipFile(local_zip, 'r')\n",
    "zip_ref.extractall('./res/test')\n",
    "zip_ref.close()"
   ]
  },
  {
   "cell_type": "code",
   "execution_count": 3,
   "id": "fc22a492",
   "metadata": {},
   "outputs": [],
   "source": [
    "base_dir = \"./res/\"\n",
    "\n",
    "train_dir = \"train/train/\"\n",
    "\n",
    "train_class = ['dog', 'elephant', 'giraffe', 'guitar', 'horse', 'house', 'person']\n",
    "\n",
    "\n",
    "test_dir = \"test/test/0\""
   ]
  },
  {
   "cell_type": "code",
   "execution_count": 4,
   "id": "f1cdb6b9",
   "metadata": {},
   "outputs": [
    {
     "name": "stdout",
     "output_type": "stream",
     "text": [
      "Found 1698 validated image filenames.\n"
     ]
    }
   ],
   "source": [
    "train_one_hot = []\n",
    "\n",
    "for path in range(len(train_class)):\n",
    "    class2label = [''] + [0] * len(train_class)\n",
    "    for img in os.listdir(base_dir + train_dir + train_class[path]):\n",
    "        class2label[0] = (train_dir + train_class[path] + \"/\" + img)[6:]\n",
    "        class2label[path + 1] = 1\n",
    "        train_one_hot.append(class2label)\n",
    "\n",
    "        \n",
    "train_answer = pd.DataFrame(train_one_hot, columns = [\"path\", \"dogs\", 'elephant', 'giraffe', 'guitar', 'horse' , 'house', 'person'])\n",
    "train_answer.to_csv('./train_answer.csv', index=False)\n",
    "\n",
    "data = pd.read_csv(\"./train_answer.csv\")\n",
    "columns = data.columns\n",
    "\n",
    "datagen=ImageDataGenerator(\n",
    "      rescale = 1/255,\n",
    "      rotation_range=40,\n",
    "      width_shift_range=0.2,\n",
    "      height_shift_range=0.2,\n",
    "      shear_range=0.2,\n",
    "      zoom_range=0.2,\n",
    "      horizontal_flip=True,\n",
    "      fill_mode='nearest')\n",
    "train_generator=datagen.flow_from_dataframe(\n",
    "                                            dataframe=data,\n",
    "                                            directory='./res/train/',\n",
    "                                            x_col=\"path\",\n",
    "                                            y_col=columns[1:],\n",
    "                                            batch_size=48,\n",
    "                                            shuffle=False,\n",
    "                                            class_mode=\"raw\",\n",
    "                                            target_size=(224,224))"
   ]
  },
  {
   "cell_type": "code",
   "execution_count": 5,
   "id": "d8cbf6a9",
   "metadata": {},
   "outputs": [
    {
     "name": "stdout",
     "output_type": "stream",
     "text": [
      "71/71 [==============================] - 198s 2s/step\n"
     ]
    }
   ],
   "source": [
    "res_net = tf.keras.applications.ResNet50V2(\n",
    "    include_top=True, weights='imagenet',input_shape=(224,224,3), pooling=\"max\")\n",
    "res_net.trainable = True\n",
    "\n",
    "pretrained_data = res_net.predict(train_generator, verbose=1)\n",
    "\n",
    "x_train, x_valid, y_train, y_valid = train_test_split(pretrained_data, data.iloc[:,1:], test_size=0.2, random_state=42)"
   ]
  },
  {
   "cell_type": "code",
   "execution_count": null,
   "id": "00b1e055",
   "metadata": {},
   "outputs": [],
   "source": [
    "x_train, x_valid, y_train, y_valid = train_test_split(pretrained_data, data.iloc[:,1:], test_size=0.2, random_state=42)\n",
    "x_train"
   ]
  },
  {
   "cell_type": "code",
   "execution_count": 6,
   "id": "7d87b9d2",
   "metadata": {},
   "outputs": [
    {
     "name": "stdout",
     "output_type": "stream",
     "text": [
      "WARNING:tensorflow:Please add `keras.layers.InputLayer` instead of `keras.Input` to Sequential model. `keras.Input` is intended to be used by Functional model.\n",
      "Model: \"sequential\"\n",
      "_________________________________________________________________\n",
      "Layer (type)                 Output Shape              Param #   \n",
      "=================================================================\n",
      "batch_normalization (BatchNo (None, 1000)              4000      \n",
      "_________________________________________________________________\n",
      "dense (Dense)                (None, 512)               512512    \n",
      "_________________________________________________________________\n",
      "batch_normalization_1 (Batch (None, 512)               2048      \n",
      "_________________________________________________________________\n",
      "dense_1 (Dense)              (None, 256)               131328    \n",
      "_________________________________________________________________\n",
      "batch_normalization_2 (Batch (None, 256)               1024      \n",
      "_________________________________________________________________\n",
      "dense_2 (Dense)              (None, 128)               32896     \n",
      "_________________________________________________________________\n",
      "batch_normalization_3 (Batch (None, 128)               512       \n",
      "_________________________________________________________________\n",
      "dense_3 (Dense)              (None, 7)                 903       \n",
      "=================================================================\n",
      "Total params: 685,223\n",
      "Trainable params: 681,431\n",
      "Non-trainable params: 3,792\n",
      "_________________________________________________________________\n"
     ]
    }
   ],
   "source": [
    "model = Sequential(\n",
    "    [Input(1000,),\n",
    "    BatchNormalization(),\n",
    "    \n",
    "    Dense(512,  activation='relu'),\n",
    "#     BatchNormalization(),\n",
    "    \n",
    "    Dense(256,  activation='relu'),\n",
    "#     BatchNormalization(),\n",
    "    \n",
    "    Dense(128,  activation='relu'),\n",
    "#     BatchNormalization(),\n",
    "    \n",
    "    Dense(7,  activation='softmax')\n",
    "    ])\n",
    "model.summary()\n",
    " \n",
    "mc = tf.keras.callbacks.ModelCheckpoint('res_model.h5', monitor='val_loss', mode='min', verbose=1, save_best_only=True)"
   ]
  },
  {
   "cell_type": "code",
   "execution_count": 7,
   "id": "f7db8720",
   "metadata": {},
   "outputs": [
    {
     "name": "stdout",
     "output_type": "stream",
     "text": [
      "Epoch 1/30\n",
      "57/57 [==============================] - 2s 23ms/step - loss: 0.8636 - accuracy: 0.7231 - val_loss: 1.8923 - val_accuracy: 0.3441\n",
      "\n",
      "Epoch 00001: val_loss improved from inf to 1.89228, saving model to res_model.h5\n",
      "Epoch 2/30\n",
      "57/57 [==============================] - 1s 17ms/step - loss: 0.1791 - accuracy: 0.9720 - val_loss: 1.8441 - val_accuracy: 0.2882\n",
      "\n",
      "Epoch 00002: val_loss improved from 1.89228 to 1.84412, saving model to res_model.h5\n",
      "Epoch 3/30\n",
      "57/57 [==============================] - 1s 17ms/step - loss: 0.0992 - accuracy: 0.9875 - val_loss: 1.7312 - val_accuracy: 0.4765\n",
      "\n",
      "Epoch 00003: val_loss improved from 1.84412 to 1.73117, saving model to res_model.h5\n",
      "Epoch 4/30\n",
      "57/57 [==============================] - 1s 17ms/step - loss: 0.0683 - accuracy: 0.9904 - val_loss: 1.5338 - val_accuracy: 0.7147\n",
      "\n",
      "Epoch 00004: val_loss improved from 1.73117 to 1.53381, saving model to res_model.h5\n",
      "Epoch 5/30\n",
      "57/57 [==============================] - 1s 17ms/step - loss: 0.0456 - accuracy: 0.9985 - val_loss: 1.2064 - val_accuracy: 0.8029\n",
      "\n",
      "Epoch 00005: val_loss improved from 1.53381 to 1.20636, saving model to res_model.h5\n",
      "Epoch 6/30\n",
      "57/57 [==============================] - 1s 17ms/step - loss: 0.0330 - accuracy: 0.9985 - val_loss: 0.8302 - val_accuracy: 0.9029\n",
      "\n",
      "Epoch 00006: val_loss improved from 1.20636 to 0.83023, saving model to res_model.h5\n",
      "Epoch 7/30\n",
      "57/57 [==============================] - 1s 17ms/step - loss: 0.0332 - accuracy: 0.9963 - val_loss: 0.5076 - val_accuracy: 0.9353\n",
      "\n",
      "Epoch 00007: val_loss improved from 0.83023 to 0.50761, saving model to res_model.h5\n",
      "Epoch 8/30\n",
      "57/57 [==============================] - 1s 17ms/step - loss: 0.0275 - accuracy: 0.9963 - val_loss: 0.2630 - val_accuracy: 0.9735\n",
      "\n",
      "Epoch 00008: val_loss improved from 0.50761 to 0.26302, saving model to res_model.h5\n",
      "Epoch 9/30\n",
      "57/57 [==============================] - 1s 17ms/step - loss: 0.0263 - accuracy: 0.9963 - val_loss: 0.1376 - val_accuracy: 0.9853\n",
      "\n",
      "Epoch 00009: val_loss improved from 0.26302 to 0.13763, saving model to res_model.h5\n",
      "Epoch 10/30\n",
      "57/57 [==============================] - 1s 17ms/step - loss: 0.0184 - accuracy: 0.9985 - val_loss: 0.0828 - val_accuracy: 0.9912\n",
      "\n",
      "Epoch 00010: val_loss improved from 0.13763 to 0.08281, saving model to res_model.h5\n",
      "Epoch 11/30\n",
      "57/57 [==============================] - 1s 17ms/step - loss: 0.0205 - accuracy: 0.9971 - val_loss: 0.0745 - val_accuracy: 0.9882\n",
      "\n",
      "Epoch 00011: val_loss improved from 0.08281 to 0.07455, saving model to res_model.h5\n",
      "Epoch 12/30\n",
      "57/57 [==============================] - 1s 17ms/step - loss: 0.0147 - accuracy: 0.9993 - val_loss: 0.0702 - val_accuracy: 0.9882\n",
      "\n",
      "Epoch 00012: val_loss improved from 0.07455 to 0.07022, saving model to res_model.h5\n",
      "Epoch 13/30\n",
      "57/57 [==============================] - 1s 17ms/step - loss: 0.0144 - accuracy: 0.9978 - val_loss: 0.0649 - val_accuracy: 0.9912\n",
      "\n",
      "Epoch 00013: val_loss improved from 0.07022 to 0.06493, saving model to res_model.h5\n",
      "Epoch 14/30\n",
      "57/57 [==============================] - 1s 17ms/step - loss: 0.0144 - accuracy: 0.9985 - val_loss: 0.0675 - val_accuracy: 0.9912\n",
      "\n",
      "Epoch 00014: val_loss did not improve from 0.06493\n",
      "Epoch 15/30\n",
      "57/57 [==============================] - 1s 17ms/step - loss: 0.0145 - accuracy: 0.9985 - val_loss: 0.0615 - val_accuracy: 0.9912\n",
      "\n",
      "Epoch 00015: val_loss improved from 0.06493 to 0.06150, saving model to res_model.h5\n",
      "Epoch 16/30\n",
      "57/57 [==============================] - 1s 17ms/step - loss: 0.0121 - accuracy: 0.9985 - val_loss: 0.0623 - val_accuracy: 0.9912\n",
      "\n",
      "Epoch 00016: val_loss did not improve from 0.06150\n",
      "Epoch 17/30\n",
      "57/57 [==============================] - 1s 17ms/step - loss: 0.0107 - accuracy: 0.9985 - val_loss: 0.0640 - val_accuracy: 0.9912\n",
      "\n",
      "Epoch 00017: val_loss did not improve from 0.06150\n",
      "Epoch 18/30\n",
      "57/57 [==============================] - 1s 17ms/step - loss: 0.0095 - accuracy: 0.9985 - val_loss: 0.0627 - val_accuracy: 0.9912\n",
      "\n",
      "Epoch 00018: val_loss did not improve from 0.06150\n",
      "Epoch 19/30\n",
      "57/57 [==============================] - 1s 17ms/step - loss: 0.0081 - accuracy: 0.9985 - val_loss: 0.0676 - val_accuracy: 0.9912\n",
      "\n",
      "Epoch 00019: val_loss did not improve from 0.06150\n",
      "Epoch 20/30\n",
      "57/57 [==============================] - 1s 17ms/step - loss: 0.0076 - accuracy: 0.9993 - val_loss: 0.0660 - val_accuracy: 0.9912\n",
      "\n",
      "Epoch 00020: val_loss did not improve from 0.06150\n",
      "Epoch 21/30\n",
      "57/57 [==============================] - 1s 18ms/step - loss: 0.0093 - accuracy: 0.9985 - val_loss: 0.0583 - val_accuracy: 0.9912\n",
      "\n",
      "Epoch 00021: val_loss improved from 0.06150 to 0.05827, saving model to res_model.h5\n",
      "Epoch 22/30\n",
      "57/57 [==============================] - 1s 17ms/step - loss: 0.0080 - accuracy: 1.0000 - val_loss: 0.0559 - val_accuracy: 0.9912\n",
      "\n",
      "Epoch 00022: val_loss improved from 0.05827 to 0.05586, saving model to res_model.h5\n",
      "Epoch 23/30\n",
      "57/57 [==============================] - 1s 17ms/step - loss: 0.0058 - accuracy: 0.9993 - val_loss: 0.0547 - val_accuracy: 0.9912\n",
      "\n",
      "Epoch 00023: val_loss improved from 0.05586 to 0.05475, saving model to res_model.h5\n",
      "Epoch 24/30\n",
      "57/57 [==============================] - 1s 17ms/step - loss: 0.0096 - accuracy: 0.9985 - val_loss: 0.0555 - val_accuracy: 0.9912\n",
      "\n",
      "Epoch 00024: val_loss did not improve from 0.05475\n",
      "Epoch 25/30\n",
      "57/57 [==============================] - 1s 17ms/step - loss: 0.0049 - accuracy: 0.9993 - val_loss: 0.0546 - val_accuracy: 0.9912\n",
      "\n",
      "Epoch 00025: val_loss improved from 0.05475 to 0.05460, saving model to res_model.h5\n",
      "Epoch 26/30\n",
      "57/57 [==============================] - 1s 17ms/step - loss: 0.0054 - accuracy: 1.0000 - val_loss: 0.0506 - val_accuracy: 0.9912\n",
      "\n",
      "Epoch 00026: val_loss improved from 0.05460 to 0.05065, saving model to res_model.h5\n",
      "Epoch 27/30\n",
      "57/57 [==============================] - 1s 17ms/step - loss: 0.0042 - accuracy: 0.9993 - val_loss: 0.0488 - val_accuracy: 0.9912\n",
      "\n",
      "Epoch 00027: val_loss improved from 0.05065 to 0.04881, saving model to res_model.h5\n",
      "Epoch 28/30\n",
      "57/57 [==============================] - 1s 17ms/step - loss: 0.0095 - accuracy: 0.9985 - val_loss: 0.0501 - val_accuracy: 0.9882\n",
      "\n",
      "Epoch 00028: val_loss did not improve from 0.04881\n",
      "Epoch 29/30\n",
      "57/57 [==============================] - 1s 17ms/step - loss: 0.0047 - accuracy: 0.9993 - val_loss: 0.0463 - val_accuracy: 0.9912\n",
      "\n",
      "Epoch 00029: val_loss improved from 0.04881 to 0.04627, saving model to res_model.h5\n",
      "Epoch 30/30\n",
      "57/57 [==============================] - 1s 17ms/step - loss: 0.0039 - accuracy: 1.0000 - val_loss: 0.0459 - val_accuracy: 0.9912\n",
      "\n",
      "Epoch 00030: val_loss improved from 0.04627 to 0.04592, saving model to res_model.h5\n"
     ]
    },
    {
     "data": {
      "text/plain": [
       "<tensorflow.python.keras.callbacks.History at 0x7fb3e0383cd0>"
      ]
     },
     "execution_count": 7,
     "metadata": {},
     "output_type": "execute_result"
    }
   ],
   "source": [
    "model.compile(loss='categorical_crossentropy', optimizer=Adam(0.001), metrics=['accuracy']) # 최적화 함수 학습률 1e-4에서 0.001로 변경\n",
    "model.fit(x_train, y_train, epochs=30, batch_size=48, validation_data=(x_valid, y_valid),callbacks=[mc])"
   ]
  },
  {
   "cell_type": "code",
   "execution_count": 8,
   "id": "978c24a8",
   "metadata": {},
   "outputs": [
    {
     "name": "stdout",
     "output_type": "stream",
     "text": [
      "Model: \"sequential_1\"\n",
      "_________________________________________________________________\n",
      "Layer (type)                 Output Shape              Param #   \n",
      "=================================================================\n",
      "resnet50v2 (Functional)      (None, 1000)              25613800  \n",
      "_________________________________________________________________\n",
      "sequential (Sequential)      (None, 7)                 685223    \n",
      "=================================================================\n",
      "Total params: 26,299,023\n",
      "Trainable params: 26,249,791\n",
      "Non-trainable params: 49,232\n",
      "_________________________________________________________________\n"
     ]
    }
   ],
   "source": [
    "loaded_model = load_model('res_model.h5')\n",
    " \n",
    "final_model = Sequential([res_net, model])\n",
    "final_model.summary()"
   ]
  },
  {
   "cell_type": "code",
   "execution_count": 9,
   "id": "29b2bdcc",
   "metadata": {},
   "outputs": [
    {
     "name": "stdout",
     "output_type": "stream",
     "text": [
      "Found 350 validated image filenames.\n"
     ]
    }
   ],
   "source": [
    "test_df = pd.DataFrame()\n",
    "test = glob.glob(\"./res/test/test/0/*.jpg\")\n",
    "test_dir = []\n",
    "for img in test:\n",
    "    test_dir.append(img[11:])\n",
    "test_df[\"path\"] = test_dir\n",
    " \n",
    "test_datagen=ImageDataGenerator(rescale = 1/255)\n",
    "test_generator = test_datagen.flow_from_dataframe(  dataframe=test_df[:],\n",
    "                                                    directory='./res/test/',\n",
    "                                                    x_col=\"path\",\n",
    "                                                    y_col=columns[0],\n",
    "                                                    batch_size=48,\n",
    "                                                    shuffle=False,\n",
    "                                                    class_mode=\"raw\",\n",
    "                                                    target_size=(224,224))"
   ]
  },
  {
   "cell_type": "code",
   "execution_count": 10,
   "id": "071589a7",
   "metadata": {},
   "outputs": [
    {
     "name": "stdout",
     "output_type": "stream",
     "text": [
      "22/22 [==============================] - 181s 4s/step\n"
     ]
    }
   ],
   "source": [
    "pred = final_model.predict(test_generator, verbose=1)"
   ]
  },
  {
   "cell_type": "code",
   "execution_count": 11,
   "id": "f3a6674e",
   "metadata": {},
   "outputs": [],
   "source": [
    "answer = np.array([y.argmax() for y in pred])\n",
    "test_df = pd.read_csv(\"./test_answer_sample_.csv\")\n",
    "test_df.iloc[:,1] = answer\n",
    "test_df.to_csv('res_net_50v2.csv', index=False)"
   ]
  }
 ],
 "metadata": {
  "kernelspec": {
   "display_name": "TensorFlow 2.5 on Python 3.8 & CUDA 11.3",
   "language": "python",
   "name": "python3"
  },
  "language_info": {
   "codemirror_mode": {
    "name": "ipython",
    "version": 3
   },
   "file_extension": ".py",
   "mimetype": "text/x-python",
   "name": "python",
   "nbconvert_exporter": "python",
   "pygments_lexer": "ipython3",
   "version": "3.8.10"
  }
 },
 "nbformat": 4,
 "nbformat_minor": 5
}
