{
 "cells": [
  {
   "cell_type": "markdown",
   "id": "broken-regression",
   "metadata": {},
   "source": [
    "# programmers Dev Match ML Assignment\n",
    "\n",
    "### Project : Art Painting 이미지를 사용한 정확도 올리기\n",
    "\n",
    "### Due Date : 8:00 PM, May 23rd, 2021\n",
    "\n",
    "### Problem Definition\n",
    "\n",
    "- 제공된 훈련데이터를 사용하여 모델을 훈련한 후 테스트 데이터에 대한 예측 카테고리 값을 csv파일로 제출하세요.\n",
    "\n",
    "- 아래의 훈련데이터만을 사용하여 각 카테고리별로 분류가 잘 되도록 신경망을 구성하세요.\n",
    "\n",
    "- 각 카테고리 별 정답 값은 아래와 같습니다.\n",
    "\n",
    "> 'dog' : 0\n",
    "> 'elephant' : 1\n",
    "> 'giraffe' : 2\n",
    ">'guitar' : 3\n",
    ">'horse' : 4\n",
    ">'house' : 5\n",
    ">'person' : 6\n",
    "\n",
    "### Purpose\n",
    "\n",
    "주어진 데이터를 활용하여 정확도를 최대로 높이세요.\n",
    "\n",
    "\n",
    "### Training & Test Data Set Description\n",
    "- 훈련/테스트 데이터는 [Step 2. 데이터 다운로드](https://programmers.co.kr/assignments/23516/challenges/2160)에서 확인할 수 있습니다.\n",
    "\n",
    "- 테스트 입력 데이터 파일 : test.zip\n",
    "- 훈련 데이터 파일: train.zip\n",
    "- 예시 출력 데이터 파일: test_answer(sample).csv\n",
    "\n",
    "### Data Description\n",
    "\n",
    "- 데이터 셋은 art painting으로 구성되어 있으며 7개의 카테고리로 구분되어 있습니다.\n",
    "- 7개의 카테고리로는 classes에서 정의한 dog, elephant, giraffe, guitar, horse, house, person를 포함합니다.\n",
    "- 하나의 이미지의 사이즈는 `[3(Channel) * 227(Width) * 227(Height)]`이며 각 카테고리 별 예시 이미지는 아래에서 확인할 수 있습니다.\n",
    "- 훈련 데이터는 art painting 1698장이며 테스트 데이터는 art painting 350장입니다.\n",
    "- 아래의 이미지는 순서대로 dog, elephant, giraffe, guitar, horse, house, person에 대한 예시입니다.\n",
    "![image](https://user-images.githubusercontent.com/40455392/119244796-0f949a00-bbaf-11eb-90ba-aedcde48ca14.png)\n",
    "\n",
    "```python\n",
    "classes = ['dog', 'elephant', 'giraffe','guitar','horse','house','person']\n",
    "```\n",
    "\n",
    "### 최종 제출 파일과 코드\n",
    "- `submission.csv`\n",
    "    1. 최종 제출 파일은 label 필드를 가지는 csv파일이며 테스트 데이터의 label을 값으로 가져야 합니다.\n",
    "    2. 최종 제출 파일은 test_answer(sample).csv 파일과 같은 크기여야 하고 label값을 채워야합니다.\n",
    "- `ipynb 파일 (주피터 노트북)`\n",
    "    1. 최종 제출한 결과를 확인할 수 있는 소스 코드와 코드에 대한 간략한 설명을 STEP 4에서 파일 업로드 버튼을 클릭하여 제출합니다.\n",
    "    2. 소스 코드에 대한 간략한 설명은 다음을 포함해야 합니다.\n",
    "        - 문제를 어떤 관점에서 정의하였는지\n",
    "        - 문제 해결 위해 만든 모델에 대한 설명과 그 모델을 선택한 이유\n",
    "    3. `.py` 파일이나 `.R` 파일은 받지 않습니다.\n",
    "- submission.csv과 ipynb 파일을 모두 제출하지 않을 경우 탈락처리됩니다.\n",
    "\n",
    "### 데이터 관련 안내\n",
    "- train 데이터 안에는 각 라벨별로 폴더가 나뉘어져 있으며 각 폴더 안의 파일을 사용하여 학습하여야 합니다.\n",
    "- test 데이터는 라벨별로 폴더가 나뉘어져있지 않으며 임의의 순서대로 이미지가 섞여있습니다.\n",
    "- 최종 제출물의 경우 데이터의 순서가 오름차순으로 정렬되어 있습니다. 이 순서대로 각 이미지에 대한 라벨 값을 작성하여 제출하세요.\n",
    "\n",
    "### 채점 방식\n",
    "- 테스트 데이터에서 추정한 label 값을 사용해 정확도를 구하고 이를 기준으로 채점합니다."
   ]
  },
  {
   "cell_type": "code",
   "execution_count": 1,
   "id": "beginning-faith",
   "metadata": {},
   "outputs": [
    {
     "name": "stdout",
     "output_type": "stream",
     "text": [
      "Library Working\n"
     ]
    }
   ],
   "source": [
    "import numpy as np\n",
    "import pandas as pd\n",
    "from pandas.api.types import CategoricalDtype\n",
    "%matplotlib inline\n",
    "import matplotlib.pyplot as plt\n",
    "import seaborn as sns\n",
    "\n",
    "import os \n",
    "from glob import glob\n",
    "from PIL import Image\n",
    "print(\"Library Working\")"
   ]
  },
  {
   "cell_type": "code",
   "execution_count": 25,
   "id": "changing-shipping",
   "metadata": {},
   "outputs": [
    {
     "name": "stdout",
     "output_type": "stream",
     "text": [
      "test_data set : 350\n",
      "train_data set : 1698\n"
     ]
    }
   ],
   "source": [
    "test_data = glob('./test/0/*.jpg')\n",
    "train_data = glob('./train/*/*.jpg')"
   ]
  },
  {
   "cell_type": "code",
   "execution_count": null,
   "id": "acknowledged-community",
   "metadata": {},
   "outputs": [],
   "source": [
    "classes = ['dog', 'elephant', 'giraffe','guitar','horse','house','person']"
   ]
  },
  {
   "cell_type": "code",
   "execution_count": null,
   "id": "unique-directory",
   "metadata": {},
   "outputs": [],
   "source": [
    "from datetime import datetime\n",
    "\n",
    "# Assuming that your predictions on the test set are stored in a 1-dimensional array called\n",
    "# test_predictions. Feel free to modify this cell as long you create a CSV in the right format.\n",
    "\n",
    "# Construct and save the submission:\n",
    "submission_df = pd.DataFrame({\n",
    "    \"answer value\": test['id']\n",
    "}, columns=['answer value'])\n",
    "timestamp = datetime.isoformat(datetime.now()).split(\".\")[0]\n",
    "submission_df.to_csv(\"submission_{}.csv\".format(timestamp), index=False)\n",
    "\n",
    "print('Created a CSV file: {}.'.format(\"submission_{}.csv\".format(timestamp)))\n",
    "print('You may now upload this CSV file to Kaggle for scoring.')"
   ]
  }
 ],
 "metadata": {
  "kernelspec": {
   "display_name": "Python 3",
   "language": "python",
   "name": "python3"
  },
  "language_info": {
   "codemirror_mode": {
    "name": "ipython",
    "version": 3
   },
   "file_extension": ".py",
   "mimetype": "text/x-python",
   "name": "python",
   "nbconvert_exporter": "python",
   "pygments_lexer": "ipython3",
   "version": "3.8.2"
  }
 },
 "nbformat": 4,
 "nbformat_minor": 5
}
